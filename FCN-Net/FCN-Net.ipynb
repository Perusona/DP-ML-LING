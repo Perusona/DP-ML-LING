{
 "cells": [
  {
   "cell_type": "markdown",
   "metadata": {},
   "source": [
    "### mnist 预处理"
   ]
  },
  {
   "cell_type": "code",
   "execution_count": 1,
   "metadata": {},
   "outputs": [
    {
     "name": "stdout",
     "output_type": "stream",
     "text": [
      "归一化前y_train\n",
      " [5 0 4 1 9 2 1 3 1 4 3 5 3 6 1 7 2 8 6 9 4 0 9 1 1 2 4 3 2 7 3 8 6 9 0 5 6\n",
      " 0 7 6 1 8 7 9 3 9 8 5 9 3 3 0 7 4 9 8 0 9 4 1 4 4 6 0 4 5 6 1 0 0 1 7 1 6\n",
      " 3 0 2 1 1 7 9 0 2 6 7 8 3 9 0 4 6 7 4 6 8 0 7 8 3 1] \n",
      "\n",
      "\n",
      "归一化 y_train: [5 0 4 1 9 2 1 3 1 4 3 5 3 6 1 7 2 8 6 9 4 0 9 1 1 2 4 3 2 7 3 8 6 9 0 5 6\n",
      " 0 7 6 1 8 7 9 3 9 8 5 9 3 3 0 7 4 9 8 0 9 4 1 4 4 6 0 4 5 6 1 0 0 1 7 1 6\n",
      " 3 0 2 1 1 7 9 0 2 6 7 8 3 9 0 4 6 7 4 6 8 0 7 8 3 1] \n",
      "\n",
      "\n",
      "归一化后,独热编码y_train: [[0. 0. 0. 0. 0. 1. 0. 0. 0. 0.]\n",
      " [1. 0. 0. 0. 0. 0. 0. 0. 0. 0.]\n",
      " [0. 0. 0. 0. 1. 0. 0. 0. 0. 0.]\n",
      " [0. 1. 0. 0. 0. 0. 0. 0. 0. 0.]\n",
      " [0. 0. 0. 0. 0. 0. 0. 0. 0. 1.]\n",
      " [0. 0. 1. 0. 0. 0. 0. 0. 0. 0.]\n",
      " [0. 1. 0. 0. 0. 0. 0. 0. 0. 0.]\n",
      " [0. 0. 0. 1. 0. 0. 0. 0. 0. 0.]\n",
      " [0. 1. 0. 0. 0. 0. 0. 0. 0. 0.]\n",
      " [0. 0. 0. 0. 1. 0. 0. 0. 0. 0.]\n",
      " [0. 0. 0. 1. 0. 0. 0. 0. 0. 0.]\n",
      " [0. 0. 0. 0. 0. 1. 0. 0. 0. 0.]\n",
      " [0. 0. 0. 1. 0. 0. 0. 0. 0. 0.]\n",
      " [0. 0. 0. 0. 0. 0. 1. 0. 0. 0.]\n",
      " [0. 1. 0. 0. 0. 0. 0. 0. 0. 0.]\n",
      " [0. 0. 0. 0. 0. 0. 0. 1. 0. 0.]\n",
      " [0. 0. 1. 0. 0. 0. 0. 0. 0. 0.]\n",
      " [0. 0. 0. 0. 0. 0. 0. 0. 1. 0.]\n",
      " [0. 0. 0. 0. 0. 0. 1. 0. 0. 0.]\n",
      " [0. 0. 0. 0. 0. 0. 0. 0. 0. 1.]\n",
      " [0. 0. 0. 0. 1. 0. 0. 0. 0. 0.]\n",
      " [1. 0. 0. 0. 0. 0. 0. 0. 0. 0.]\n",
      " [0. 0. 0. 0. 0. 0. 0. 0. 0. 1.]\n",
      " [0. 1. 0. 0. 0. 0. 0. 0. 0. 0.]\n",
      " [0. 1. 0. 0. 0. 0. 0. 0. 0. 0.]\n",
      " [0. 0. 1. 0. 0. 0. 0. 0. 0. 0.]\n",
      " [0. 0. 0. 0. 1. 0. 0. 0. 0. 0.]\n",
      " [0. 0. 0. 1. 0. 0. 0. 0. 0. 0.]\n",
      " [0. 0. 1. 0. 0. 0. 0. 0. 0. 0.]\n",
      " [0. 0. 0. 0. 0. 0. 0. 1. 0. 0.]\n",
      " [0. 0. 0. 1. 0. 0. 0. 0. 0. 0.]\n",
      " [0. 0. 0. 0. 0. 0. 0. 0. 1. 0.]\n",
      " [0. 0. 0. 0. 0. 0. 1. 0. 0. 0.]\n",
      " [0. 0. 0. 0. 0. 0. 0. 0. 0. 1.]\n",
      " [1. 0. 0. 0. 0. 0. 0. 0. 0. 0.]\n",
      " [0. 0. 0. 0. 0. 1. 0. 0. 0. 0.]\n",
      " [0. 0. 0. 0. 0. 0. 1. 0. 0. 0.]\n",
      " [1. 0. 0. 0. 0. 0. 0. 0. 0. 0.]\n",
      " [0. 0. 0. 0. 0. 0. 0. 1. 0. 0.]\n",
      " [0. 0. 0. 0. 0. 0. 1. 0. 0. 0.]\n",
      " [0. 1. 0. 0. 0. 0. 0. 0. 0. 0.]\n",
      " [0. 0. 0. 0. 0. 0. 0. 0. 1. 0.]\n",
      " [0. 0. 0. 0. 0. 0. 0. 1. 0. 0.]\n",
      " [0. 0. 0. 0. 0. 0. 0. 0. 0. 1.]\n",
      " [0. 0. 0. 1. 0. 0. 0. 0. 0. 0.]\n",
      " [0. 0. 0. 0. 0. 0. 0. 0. 0. 1.]\n",
      " [0. 0. 0. 0. 0. 0. 0. 0. 1. 0.]\n",
      " [0. 0. 0. 0. 0. 1. 0. 0. 0. 0.]\n",
      " [0. 0. 0. 0. 0. 0. 0. 0. 0. 1.]\n",
      " [0. 0. 0. 1. 0. 0. 0. 0. 0. 0.]\n",
      " [0. 0. 0. 1. 0. 0. 0. 0. 0. 0.]\n",
      " [1. 0. 0. 0. 0. 0. 0. 0. 0. 0.]\n",
      " [0. 0. 0. 0. 0. 0. 0. 1. 0. 0.]\n",
      " [0. 0. 0. 0. 1. 0. 0. 0. 0. 0.]\n",
      " [0. 0. 0. 0. 0. 0. 0. 0. 0. 1.]\n",
      " [0. 0. 0. 0. 0. 0. 0. 0. 1. 0.]\n",
      " [1. 0. 0. 0. 0. 0. 0. 0. 0. 0.]\n",
      " [0. 0. 0. 0. 0. 0. 0. 0. 0. 1.]\n",
      " [0. 0. 0. 0. 1. 0. 0. 0. 0. 0.]\n",
      " [0. 1. 0. 0. 0. 0. 0. 0. 0. 0.]\n",
      " [0. 0. 0. 0. 1. 0. 0. 0. 0. 0.]\n",
      " [0. 0. 0. 0. 1. 0. 0. 0. 0. 0.]\n",
      " [0. 0. 0. 0. 0. 0. 1. 0. 0. 0.]\n",
      " [1. 0. 0. 0. 0. 0. 0. 0. 0. 0.]\n",
      " [0. 0. 0. 0. 1. 0. 0. 0. 0. 0.]\n",
      " [0. 0. 0. 0. 0. 1. 0. 0. 0. 0.]\n",
      " [0. 0. 0. 0. 0. 0. 1. 0. 0. 0.]\n",
      " [0. 1. 0. 0. 0. 0. 0. 0. 0. 0.]\n",
      " [1. 0. 0. 0. 0. 0. 0. 0. 0. 0.]\n",
      " [1. 0. 0. 0. 0. 0. 0. 0. 0. 0.]\n",
      " [0. 1. 0. 0. 0. 0. 0. 0. 0. 0.]\n",
      " [0. 0. 0. 0. 0. 0. 0. 1. 0. 0.]\n",
      " [0. 1. 0. 0. 0. 0. 0. 0. 0. 0.]\n",
      " [0. 0. 0. 0. 0. 0. 1. 0. 0. 0.]\n",
      " [0. 0. 0. 1. 0. 0. 0. 0. 0. 0.]\n",
      " [1. 0. 0. 0. 0. 0. 0. 0. 0. 0.]\n",
      " [0. 0. 1. 0. 0. 0. 0. 0. 0. 0.]\n",
      " [0. 1. 0. 0. 0. 0. 0. 0. 0. 0.]\n",
      " [0. 1. 0. 0. 0. 0. 0. 0. 0. 0.]\n",
      " [0. 0. 0. 0. 0. 0. 0. 1. 0. 0.]\n",
      " [0. 0. 0. 0. 0. 0. 0. 0. 0. 1.]\n",
      " [1. 0. 0. 0. 0. 0. 0. 0. 0. 0.]\n",
      " [0. 0. 1. 0. 0. 0. 0. 0. 0. 0.]\n",
      " [0. 0. 0. 0. 0. 0. 1. 0. 0. 0.]\n",
      " [0. 0. 0. 0. 0. 0. 0. 1. 0. 0.]\n",
      " [0. 0. 0. 0. 0. 0. 0. 0. 1. 0.]\n",
      " [0. 0. 0. 1. 0. 0. 0. 0. 0. 0.]\n",
      " [0. 0. 0. 0. 0. 0. 0. 0. 0. 1.]\n",
      " [1. 0. 0. 0. 0. 0. 0. 0. 0. 0.]\n",
      " [0. 0. 0. 0. 1. 0. 0. 0. 0. 0.]\n",
      " [0. 0. 0. 0. 0. 0. 1. 0. 0. 0.]\n",
      " [0. 0. 0. 0. 0. 0. 0. 1. 0. 0.]\n",
      " [0. 0. 0. 0. 1. 0. 0. 0. 0. 0.]\n",
      " [0. 0. 0. 0. 0. 0. 1. 0. 0. 0.]\n",
      " [0. 0. 0. 0. 0. 0. 0. 0. 1. 0.]\n",
      " [1. 0. 0. 0. 0. 0. 0. 0. 0. 0.]\n",
      " [0. 0. 0. 0. 0. 0. 0. 1. 0. 0.]\n",
      " [0. 0. 0. 0. 0. 0. 0. 0. 1. 0.]\n",
      " [0. 0. 0. 1. 0. 0. 0. 0. 0. 0.]\n",
      " [0. 1. 0. 0. 0. 0. 0. 0. 0. 0.]] \n",
      "\n"
     ]
    },
    {
     "data": {
      "text/plain": [
       "<matplotlib.image.AxesImage at 0x21008f7cdf0>"
      ]
     },
     "execution_count": 1,
     "metadata": {},
     "output_type": "execute_result"
    },
    {
     "data": {
      "image/png": "[encoded data removed]",
      "text/plain": [
       "<Figure size 640x480 with 1 Axes>"
      ]
     },
     "metadata": {},
     "output_type": "display_data"
    }
   ],
   "source": [
    "from keras.datasets import mnist\n",
    "from keras.utils import to_categorical\n",
    "(x_train,y_train),(x_test,y_test)=mnist.load_data()\n",
    "# 归一化\n",
    "print(\"归一化前y_train\\n\",y_train[0:100],\"\\n\")\n",
    "# 独热编码 \n",
    "# y_train=to_categorical(y_train,num_classes=10)\n",
    "# print(\"\\n归一化前,独热编码y_train:\",y_train[0:100],\"\\n\")\n",
    "\n",
    "\n",
    "x_train=x_train/255.0\n",
    "x_test=x_test/255.0\n",
    "\n",
    "# y_train=y_train/255.0\n",
    "# y_test=y_test/255.0\n",
    "\n",
    "print(\"\\n归一化 y_train:\",y_train[0:100],\"\\n\")\n",
    "\n",
    "y_train=to_categorical(y_train,num_classes=10)\n",
    "y_test=to_categorical(y_test,num_classes=10)\n",
    "\n",
    "print(\"\\n归一化后,独热编码y_train:\",y_train[0:100],\"\\n\")\n",
    "# print(x_test[1],\"\\n\")\n",
    "# print(y_train[0:100])\n",
    "import matplotlib.pyplot as plt\n",
    "plt.imshow(x_test[1],cmap=\"gray\")"
   ]
  },
  {
   "cell_type": "code",
   "execution_count": 2,
   "metadata": {},
   "outputs": [],
   "source": [
    "from keras.models import Sequential\n",
    "from keras.layers import Dense,Flatten\n",
    "from keras.optimizers import RMSprop"
   ]
  },
  {
   "cell_type": "markdown",
   "metadata": {},
   "source": [
    "### 搭建 FCN-Net 网络\n",
    "Flatten - 扁平化层  \n",
    "Dense - 全连接层"
   ]
  },
  {
   "cell_type": "code",
   "execution_count": 5,
   "metadata": {},
   "outputs": [
    {
     "name": "stdout",
     "output_type": "stream",
     "text": [
      "Model: \"FCN-Net\"\n",
      "_________________________________________________________________\n",
      " Layer (type)                Output Shape              Param #   \n",
      "=================================================================\n",
      " flatten_1 (Flatten)         (None, 784)               0         \n",
      "                                                                 \n",
      " dense_4 (Dense)             (None, 64)                50240     \n",
      "                                                                 \n",
      " dense_5 (Dense)             (None, 32)                2080      \n",
      "                                                                 \n",
      " dense_6 (Dense)             (None, 32)                1056      \n",
      "                                                                 \n",
      " dense_7 (Dense)             (None, 10)                330       \n",
      "                                                                 \n",
      "=================================================================\n",
      "Total params: 53,706\n",
      "Trainable params: 53,706\n",
      "Non-trainable params: 0\n",
      "_________________________________________________________________\n"
     ]
    }
   ],
   "source": [
    "model = Sequential(name=\"FCN-Net\")\n",
    "model.add(Flatten(input_shape=(28,28)))\n",
    "model.add(Dense(units=64,activation=\"relu\"))\n",
    "model.add(Dense(units=32,activation=\"relu\"))\n",
    "model.add(Dense(units=32,activation=\"relu\"))\n",
    "model.add(Dense(units=10,activation=\"softmax\"))\n",
    "model.summary()"
   ]
  },
  {
   "cell_type": "markdown",
   "metadata": {},
   "source": [
    "#### 损失()+梯度()"
   ]
  },
  {
   "cell_type": "code",
   "execution_count": 6,
   "metadata": {},
   "outputs": [],
   "source": [
    "model.compile(loss='categorical_crossentropy',\n",
    "              metrics=['accuracy'],\n",
    "              optimizer=RMSprop())"
   ]
  },
  {
   "cell_type": "markdown",
   "metadata": {},
   "source": [
    "### 训练 FCN-Net  \n",
    "model.fit()  \n",
    "设置 epochs、batch_size、validation_split（指定用于验证的数据比例）  \n",
    "model_info.history[\"loss\"]"
   ]
  },
  {
   "cell_type": "code",
   "execution_count": 7,
   "metadata": {},
   "outputs": [
    {
     "name": "stdout",
     "output_type": "stream",
     "text": [
      "Epoch 1/30\n",
      "750/750 [==============================] - 2s 2ms/step - loss: 0.3947 - accuracy: 0.8842 - val_loss: 0.1809 - val_accuracy: 0.9475\n",
      "Epoch 2/30\n",
      "750/750 [==============================] - 1s 2ms/step - loss: 0.1694 - accuracy: 0.9504 - val_loss: 0.1410 - val_accuracy: 0.9581\n",
      "Epoch 3/30\n",
      "750/750 [==============================] - 1s 2ms/step - loss: 0.1255 - accuracy: 0.9628 - val_loss: 0.1294 - val_accuracy: 0.9619\n",
      "Epoch 4/30\n",
      "750/750 [==============================] - 1s 2ms/step - loss: 0.1020 - accuracy: 0.9700 - val_loss: 0.1231 - val_accuracy: 0.9663\n",
      "Epoch 5/30\n",
      "750/750 [==============================] - 1s 2ms/step - loss: 0.0871 - accuracy: 0.9734 - val_loss: 0.1082 - val_accuracy: 0.9696\n",
      "Epoch 6/30\n",
      "750/750 [==============================] - 1s 2ms/step - loss: 0.0746 - accuracy: 0.9775 - val_loss: 0.1124 - val_accuracy: 0.9687\n",
      "Epoch 7/30\n",
      "750/750 [==============================] - 1s 2ms/step - loss: 0.0650 - accuracy: 0.9804 - val_loss: 0.1065 - val_accuracy: 0.9715\n",
      "Epoch 8/30\n",
      "750/750 [==============================] - 1s 2ms/step - loss: 0.0578 - accuracy: 0.9823 - val_loss: 0.1185 - val_accuracy: 0.9681\n",
      "Epoch 9/30\n",
      "750/750 [==============================] - 1s 2ms/step - loss: 0.0505 - accuracy: 0.9846 - val_loss: 0.1115 - val_accuracy: 0.9712\n",
      "Epoch 10/30\n",
      "750/750 [==============================] - 1s 2ms/step - loss: 0.0462 - accuracy: 0.9855 - val_loss: 0.1165 - val_accuracy: 0.9690\n",
      "Epoch 11/30\n",
      "750/750 [==============================] - 1s 2ms/step - loss: 0.0406 - accuracy: 0.9878 - val_loss: 0.1209 - val_accuracy: 0.9707\n",
      "Epoch 12/30\n",
      "750/750 [==============================] - 1s 2ms/step - loss: 0.0369 - accuracy: 0.9883 - val_loss: 0.1296 - val_accuracy: 0.9693\n",
      "Epoch 13/30\n",
      "750/750 [==============================] - 1s 2ms/step - loss: 0.0322 - accuracy: 0.9901 - val_loss: 0.1298 - val_accuracy: 0.9722\n",
      "Epoch 14/30\n",
      "750/750 [==============================] - 1s 2ms/step - loss: 0.0299 - accuracy: 0.9906 - val_loss: 0.1356 - val_accuracy: 0.9722\n",
      "Epoch 15/30\n",
      "750/750 [==============================] - 1s 2ms/step - loss: 0.0259 - accuracy: 0.9918 - val_loss: 0.1400 - val_accuracy: 0.9709\n",
      "Epoch 16/30\n",
      "750/750 [==============================] - 1s 2ms/step - loss: 0.0232 - accuracy: 0.9924 - val_loss: 0.1478 - val_accuracy: 0.9714\n",
      "Epoch 17/30\n",
      "750/750 [==============================] - 1s 2ms/step - loss: 0.0218 - accuracy: 0.9932 - val_loss: 0.1556 - val_accuracy: 0.9726\n",
      "Epoch 18/30\n",
      "750/750 [==============================] - 1s 2ms/step - loss: 0.0199 - accuracy: 0.9934 - val_loss: 0.1552 - val_accuracy: 0.9719\n",
      "Epoch 19/30\n",
      "750/750 [==============================] - 1s 2ms/step - loss: 0.0179 - accuracy: 0.9943 - val_loss: 0.1827 - val_accuracy: 0.9702\n",
      "Epoch 20/30\n",
      "750/750 [==============================] - 1s 2ms/step - loss: 0.0162 - accuracy: 0.9948 - val_loss: 0.1957 - val_accuracy: 0.9678\n",
      "Epoch 21/30\n",
      "750/750 [==============================] - 1s 2ms/step - loss: 0.0168 - accuracy: 0.9946 - val_loss: 0.1709 - val_accuracy: 0.9743\n",
      "Epoch 22/30\n",
      "750/750 [==============================] - 1s 2ms/step - loss: 0.0149 - accuracy: 0.9954 - val_loss: 0.1795 - val_accuracy: 0.9697\n",
      "Epoch 23/30\n",
      "750/750 [==============================] - 1s 2ms/step - loss: 0.0131 - accuracy: 0.9960 - val_loss: 0.1843 - val_accuracy: 0.9707\n",
      "Epoch 24/30\n",
      "750/750 [==============================] - 1s 2ms/step - loss: 0.0119 - accuracy: 0.9962 - val_loss: 0.1985 - val_accuracy: 0.9708\n",
      "Epoch 25/30\n",
      "750/750 [==============================] - 1s 2ms/step - loss: 0.0112 - accuracy: 0.9964 - val_loss: 0.1898 - val_accuracy: 0.9725\n",
      "Epoch 26/30\n",
      "750/750 [==============================] - 1s 2ms/step - loss: 0.0115 - accuracy: 0.9967 - val_loss: 0.2231 - val_accuracy: 0.9707\n",
      "Epoch 27/30\n",
      "750/750 [==============================] - 1s 2ms/step - loss: 0.0094 - accuracy: 0.9968 - val_loss: 0.2236 - val_accuracy: 0.9700\n",
      "Epoch 28/30\n",
      "750/750 [==============================] - 1s 2ms/step - loss: 0.0092 - accuracy: 0.9971 - val_loss: 0.2246 - val_accuracy: 0.9710\n",
      "Epoch 29/30\n",
      "750/750 [==============================] - 1s 2ms/step - loss: 0.0086 - accuracy: 0.9968 - val_loss: 0.2614 - val_accuracy: 0.9668\n",
      "Epoch 30/30\n",
      "750/750 [==============================] - 1s 2ms/step - loss: 0.0084 - accuracy: 0.9974 - val_loss: 0.2350 - val_accuracy: 0.9708\n",
      "313/313 [==============================] - 0s 1ms/step - loss: 0.2173 - accuracy: 0.9723\n",
      "0.9722999930381775\n"
     ]
    }
   ],
   "source": [
    "model_info=model.fit(x_train,\n",
    "          y_train,\n",
    "          epochs=30,\n",
    "          batch_size=64,\n",
    "          validation_split=0.2)\n",
    "loss, accuracy = model.evaluate(x_test, y_test)\n",
    "print (accuracy)"
   ]
  },
  {
   "cell_type": "markdown",
   "metadata": {},
   "source": [
    "### 保存 FCN-Net"
   ]
  },
  {
   "cell_type": "code",
   "execution_count": 6,
   "metadata": {},
   "outputs": [],
   "source": [
    "model.save_weights(\"FCN-Net.h5\")"
   ]
  },
  {
   "cell_type": "markdown",
   "metadata": {},
   "source": [
    "### 绘制 history 曲线"
   ]
  },
  {
   "cell_type": "code",
   "execution_count": 8,
   "metadata": {},
   "outputs": [
    {
     "name": "stdout",
     "output_type": "stream",
     "text": [
      "[0.9474999904632568, 0.9580833315849304, 0.9619166851043701, 0.9663333296775818, 0.9695833325386047, 0.968666672706604, 0.9714999794960022, 0.9680833220481873, 0.9711666703224182, 0.968999981880188, 0.9706666469573975, 0.9693333506584167, 0.9722499847412109, 0.9721666574478149, 0.9709166884422302, 0.9714166522026062, 0.9725833535194397, 0.971916675567627, 0.9701666831970215, 0.9678333401679993, 0.9742500185966492, 0.9697499871253967, 0.9706666469573975, 0.9708333611488342, 0.9725000262260437, 0.9706666469573975, 0.9700000286102295, 0.9710000157356262, 0.9667500257492065, 0.9708333611488342]\n"
     ]
    },
    {
     "data": {
      "image/png": "[encoded data removed]",
      "text/plain": [
       "<Figure size 1500x500 with 2 Axes>"
      ]
     },
     "metadata": {},
     "output_type": "display_data"
    }
   ],
   "source": [
    "import matplotlib.pyplot as plt\n",
    "y=model_info.history[\"val_accuracy\"]\n",
    "print(y)\n",
    "\n",
    "# 绘图\n",
    "fig,axs = plt.subplots(1,2,figsize=(15,5))\n",
    "axs[0].plot(range(1,len(model_info.history['accuracy'])+1),model_info.history['accuracy'])\n",
    "axs[0].plot(range(1,len(model_info.history['val_accuracy'])+1),model_info.history['val_accuracy'])\n",
    "axs[0].set_title(\"FCN-Net Accuracy\")\n",
    "axs[0].set_ylabel(\"Accuracy\")\n",
    "axs[0].set_xlabel('Epoch')\n",
    "axs[0].legend(['train','val'],loc='best')\n",
    "\n",
    "axs[1].plot(range(1,len(model_info.history['loss'])+1),model_info.history['loss'])\n",
    "axs[1].plot(range(1,len(model_info.history['val_loss'])+1),model_info.history['val_loss'])\n",
    "axs[1].set_title(\"FCN-Net Loss\")\n",
    "axs[1].set_ylabel(\"Loss\")\n",
    "axs[1].set_xlabel(\"Epoch\")\n",
    "\n",
    "axs[1].legend(['train','val'],loc='best')\n",
    "fig.savefig('plot.png')\n",
    "\n",
    "# plt.xlabel(\"epoch\")\n",
    "# plt.ylabel(\"val_accuracy\")\n",
    "# plt.plot(range(0,len(model_info.history[\"val_accuracy\"])),y)\n",
    "\n",
    "plt.show()"
   ]
  },
  {
   "cell_type": "markdown",
   "metadata": {},
   "source": [
    "### 在自己的数据集上测试"
   ]
  },
  {
   "cell_type": "code",
   "execution_count": 8,
   "metadata": {},
   "outputs": [],
   "source": [
    "import numpy as np\n",
    "import os\n",
    "import cv2\n",
    "img_size=28\n",
    "dataSet_path=\"./photo\"\n",
    "img_names=os.listdir(dataSet_path)\n",
    "# print(img_names)"
   ]
  },
  {
   "cell_type": "markdown",
   "metadata": {},
   "source": [
    "for img_name in img_names:\n",
    "    img_path=os.path.join(dataSet_path,img_name)\n",
    "    img = cv2.imread(img_path,cv2.IMREAD_GRAYSCALE)\n",
    "    print(\"img_size:\",img.shape)\n",
    "    if img is not None:\n",
    "        cv2.namedWindow(\"img_imshow\",cv2.WINDOW_AUTOSIZE)\n",
    "        img=cv2.resize(img,dsize=(28,28))\n",
    "        print(\"res-img_size:\",img.shape)\n",
    "        cv2.imshow(\"img_imshow\",mat=img)\n",
    "        cv2.waitKey()\n",
    "        cv2.destroyAllWindows()\n",
    "    else:\n",
    "        print(\"img None!\")\n"
   ]
  },
  {
   "cell_type": "code",
   "execution_count": 9,
   "metadata": {},
   "outputs": [
    {
     "name": "stdout",
     "output_type": "stream",
     "text": [
      "1/1 [==============================] - 0s 79ms/step\n",
      "[[0. 0. 0. 0. 0. 0. 0. 0. 1. 0.]] \n",
      " [8]\n",
      "1/1 [==============================] - 0s 20ms/step\n",
      "[[0. 0. 0. 0. 0. 0. 1. 0. 0. 0.]] \n",
      " [6]\n",
      "1/1 [==============================] - 0s 11ms/step\n",
      "[[0. 0. 1. 0. 0. 0. 0. 0. 0. 0.]] \n",
      " [2]\n",
      "1/1 [==============================] - 0s 19ms/step\n",
      "[[0. 0. 1. 0. 0. 0. 0. 0. 0. 0.]] \n",
      " [2]\n",
      "1/1 [==============================] - 0s 13ms/step\n",
      "[[0. 0. 1. 0. 0. 0. 0. 0. 0. 0.]] \n",
      " [2]\n",
      "1/1 [==============================] - 0s 7ms/step\n",
      "[[0. 0. 0. 0. 0. 0. 0. 0. 1. 0.]] \n",
      " [8]\n",
      "1/1 [==============================] - 0s 12ms/step\n",
      "[[0. 1. 0. 0. 0. 0. 0. 0. 0. 0.]] \n",
      " [1]\n",
      "1/1 [==============================] - 0s 11ms/step\n",
      "[[0. 0. 0. 0. 0. 0. 1. 0. 0. 0.]] \n",
      " [6]\n",
      "1/1 [==============================] - 0s 20ms/step\n",
      "[[0. 0. 1. 0. 0. 0. 0. 0. 0. 0.]] \n",
      " [2]\n",
      "1/1 [==============================] - 0s 6ms/step\n",
      "[[0. 0. 1. 0. 0. 0. 0. 0. 0. 0.]] \n",
      " [2]\n",
      "1/1 [==============================] - 0s 9ms/step\n",
      "[[0. 0. 1. 0. 0. 0. 0. 0. 0. 0.]] \n",
      " [2]\n",
      "1/1 [==============================] - 0s 20ms/step\n",
      "[[0. 0. 0. 0. 0. 0. 0. 0. 1. 0.]] \n",
      " [8]\n",
      "1/1 [==============================] - 0s 14ms/step\n",
      "[[0. 0. 0. 0. 0. 0. 1. 0. 0. 0.]] \n",
      " [6]\n",
      "1/1 [==============================] - 0s 11ms/step\n",
      "[[0. 0. 0. 0. 0. 0. 0. 0. 1. 0.]] \n",
      " [8]\n",
      "1/1 [==============================] - 0s 5ms/step\n",
      "[[0. 0. 0. 0. 0. 0. 0. 0. 1. 0.]] \n",
      " [8]\n",
      "1/1 [==============================] - 0s 11ms/step\n",
      "[[0. 0. 0. 0. 0. 0. 0. 0. 1. 0.]] \n",
      " [8]\n",
      "1/1 [==============================] - 0s 12ms/step\n",
      "[[0. 0. 0. 0. 0. 0. 0. 1. 0. 0.]] \n",
      " [7]\n",
      "1/1 [==============================] - 0s 13ms/step\n",
      "[[0. 0. 1. 0. 0. 0. 0. 0. 0. 0.]] \n",
      " [2]\n",
      "1/1 [==============================] - 0s 11ms/step\n",
      "[[0. 0. 0. 0. 0. 0. 0. 0. 1. 0.]] \n",
      " [8]\n",
      "1/1 [==============================] - 0s 11ms/step\n",
      "[[0. 0. 0. 0. 0. 1. 0. 0. 0. 0.]] \n",
      " [5]\n",
      "1/1 [==============================] - 0s 16ms/step\n",
      "[[0. 0. 0. 0. 0. 1. 0. 0. 0. 0.]] \n",
      " [5]\n",
      "1/1 [==============================] - 0s 13ms/step\n",
      "[[0. 0. 0. 0. 0. 0. 0. 0. 1. 0.]] \n",
      " [8]\n",
      "1/1 [==============================] - 0s 16ms/step\n",
      "[[0.0000000e+00 0.0000000e+00 0.0000000e+00 0.0000000e+00 0.0000000e+00\n",
      "  0.0000000e+00 2.5627045e-37 0.0000000e+00 1.0000000e+00 0.0000000e+00]] \n",
      " [8]\n",
      "1/1 [==============================] - 0s 13ms/step\n",
      "[[0. 0. 0. 0. 0. 0. 0. 0. 1. 0.]] \n",
      " [8]\n",
      "1/1 [==============================] - 0s 13ms/step\n",
      "[[0. 0. 0. 0. 0. 0. 0. 0. 1. 0.]] \n",
      " [8]\n",
      "1/1 [==============================] - 0s 14ms/step\n",
      "[[0. 0. 0. 0. 0. 1. 0. 0. 0. 0.]] \n",
      " [5]\n"
     ]
    }
   ],
   "source": [
    "model.load_weights(\"D:\\\\Python\\\\DP-ML-LING\\\\FCN-Net\\\\FCN-Net.h5\")\n",
    "for img_name in img_names:\n",
    "    img_path=os.path.join(dataSet_path,img_name)    \n",
    "    img = cv2.imread(img_path,cv2.IMREAD_UNCHANGED)\n",
    "    cv2.namedWindow(\"img_imshow\",cv2.WINDOW_AUTOSIZE)\n",
    "    img=cv2.cvtColor(img,cv2.COLOR_BGR2GRAY)\n",
    "    img=cv2.resize(img,dsize=(28,28))\n",
    "\n",
    "    cv2.imshow(\"img_imshow\",mat=img)\n",
    "    cv2.waitKey()\n",
    "    cv2.destroyAllWindows()\n",
    "\n",
    "    img=np.reshape(img,(-1,28,28))\n",
    "\n",
    "    # print(img)\n",
    "\n",
    "    prediction=model.predict(img)\n",
    "    inferred_y = np.argmax(prediction, axis=1)\n",
    "    print(prediction,\"\\n\",inferred_y)\n"
   ]
  }
 ],
 "metadata": {
  "kernelspec": {
   "display_name": "tensorflow",
   "language": "python",
   "name": "python3"
  },
  "language_info": {
   "codemirror_mode": {
    "name": "ipython",
    "version": 3
   },
   "file_extension": ".py",
   "mimetype": "text/x-python",
   "name": "python",
   "nbconvert_exporter": "python",
   "pygments_lexer": "ipython3",
   "version": "3.10.13"
  }
 },
 "nbformat": 4,
 "nbformat_minor": 2
}
